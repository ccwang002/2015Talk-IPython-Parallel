{
 "cells": [
  {
   "cell_type": "markdown",
   "metadata": {},
   "source": [
    "# More on views\n",
    "\n",
    "In this notebook, we compare `DirectView` with `LoadBalancedView`"
   ]
  },
  {
   "cell_type": "markdown",
   "metadata": {},
   "source": [
    "### Local setup\n",
    "\n",
    "Some modules required for plotting and data organization. Since they won't be used by the parallel task, we only need to import locally."
   ]
  },
  {
   "cell_type": "code",
   "execution_count": 1,
   "metadata": {
    "collapsed": false
   },
   "outputs": [],
   "source": [
    "import operator\n",
    "import numpy as np\n",
    "import pandas as pd\n",
    "\n",
    "# plotting\n",
    "import matplotlib as mpl\n",
    "from matplotlib import pyplot as plt\n",
    "import seaborn as sns\n",
    "%matplotlib inline\n",
    "sns.set_style('white')\n",
    "sns.set_context('talk')"
   ]
  },
  {
   "cell_type": "markdown",
   "metadata": {},
   "source": [
    "### Parallel setup"
   ]
  },
  {
   "cell_type": "code",
   "execution_count": 2,
   "metadata": {
    "collapsed": false
   },
   "outputs": [
    {
     "data": {
      "text/plain": [
       "[0, 1, 2, 3, 4, 5, 6, 7, 8, 9, 10, 11]"
      ]
     },
     "execution_count": 2,
     "metadata": {},
     "output_type": "execute_result"
    }
   ],
   "source": [
    "from IPython.parallel import Client\n",
    "rc = Client()\n",
    "rc.ids"
   ]
  },
  {
   "cell_type": "markdown",
   "metadata": {},
   "source": [
    "`Client.load_balanced_view()` return a new type of view that help balance the work load between engines."
   ]
  },
  {
   "cell_type": "code",
   "execution_count": 3,
   "metadata": {
    "collapsed": true
   },
   "outputs": [],
   "source": [
    "dview = rc[:]\n",
    "lbview = rc.load_balanced_view()"
   ]
  },
  {
   "cell_type": "markdown",
   "metadata": {},
   "source": [
    "We here define a dummy task that sleeps for different amount of time. For this we need to import some built-in modules"
   ]
  },
  {
   "cell_type": "code",
   "execution_count": 4,
   "metadata": {
    "collapsed": false
   },
   "outputs": [],
   "source": [
    "%%px --local\n",
    "from time import sleep\n",
    "from datetime import datetime\n",
    "import os\n",
    "pid = os.getpid()  # every engines will be different"
   ]
  },
  {
   "cell_type": "markdown",
   "metadata": {},
   "source": [
    "We use the engines' pid to track which task is executed by which process.\n",
    "\n",
    "Note that if you are working with load-balanced view only, then using `asyncresult.metadata` will be sufficient."
   ]
  },
  {
   "cell_type": "code",
   "execution_count": 5,
   "metadata": {
    "collapsed": false
   },
   "outputs": [],
   "source": [
    "engines_pid = dview.get('pid')\n",
    "pid_id_map = {pid: id for pid, id in zip(engines_pid, rc.ids)}"
   ]
  },
  {
   "cell_type": "markdown",
   "metadata": {},
   "source": [
    "## Task definition - target to troll directview.map"
   ]
  },
  {
   "cell_type": "markdown",
   "metadata": {},
   "source": [
    "Here is a deliberately setup task, which determines each task's work load by argument `i`. Light load takes 200ms while havy one takes a second. However we only that the first bunch of `i`s to be heavy load.\n",
    "\n",
    "In this case, when tasks are mapped acrossed engines, engine 0 will eat up all heavy tasks.\n",
    "\n",
    "When each task finishes, the pid, start/end time are returned."
   ]
  },
  {
   "cell_type": "code",
   "execution_count": 6,
   "metadata": {
    "collapsed": false
   },
   "outputs": [],
   "source": [
    "num_engines = len(rc.ids)\n",
    "total_works = num_engines * 12 + 2\n",
    "\n",
    "def high_variated_work(i):\n",
    "    start_time = datetime.now()\n",
    "    base_workload = 10\n",
    "    if i  < (total_works // num_engines):\n",
    "        base_workload *= 5\n",
    "    # so short task: 200ms long task: 1s\n",
    "    sleep(base_workload * 20 / 1000)\n",
    "    end_time = datetime.now()\n",
    "    return pid, start_time, end_time"
   ]
  },
  {
   "cell_type": "markdown",
   "metadata": {},
   "source": [
    "First we test light/heavy task. The following line equals to `(end_t - start_t).total_seconds()`."
   ]
  },
  {
   "cell_type": "code",
   "execution_count": 7,
   "metadata": {
    "collapsed": false
   },
   "outputs": [
    {
     "data": {
      "text/plain": [
       "1.006497"
      ]
     },
     "execution_count": 7,
     "metadata": {},
     "output_type": "execute_result"
    }
   ],
   "source": [
    "operator.sub(*high_variated_work(1)[:0:-1]).total_seconds()"
   ]
  },
  {
   "cell_type": "code",
   "execution_count": 8,
   "metadata": {
    "collapsed": false
   },
   "outputs": [
    {
     "data": {
      "text/plain": [
       "0.203177"
      ]
     },
     "execution_count": 8,
     "metadata": {},
     "output_type": "execute_result"
    }
   ],
   "source": [
    "operator.sub(*high_variated_work(14)[:0:-1]).total_seconds()"
   ]
  },
  {
   "cell_type": "markdown",
   "metadata": {},
   "source": [
    "### Run and measure"
   ]
  },
  {
   "cell_type": "markdown",
   "metadata": {},
   "source": [
    "Remember to spread all needed variable to remote engines."
   ]
  },
  {
   "cell_type": "code",
   "execution_count": 9,
   "metadata": {
    "collapsed": true
   },
   "outputs": [],
   "source": [
    "dview['num_engines'] = num_engines\n",
    "dview['total_works'] = total_works"
   ]
  },
  {
   "cell_type": "code",
   "execution_count": 10,
   "metadata": {
    "collapsed": true
   },
   "outputs": [],
   "source": [
    "# lb: load balance, ar: async result\n",
    "lb_ar = lbview.map_async(high_variated_work, range(total_works))"
   ]
  },
  {
   "cell_type": "code",
   "execution_count": 11,
   "metadata": {
    "collapsed": false
   },
   "outputs": [
    {
     "name": "stdout",
     "output_type": "stream",
     "text": [
      " 146/146 tasks finished after    3 s\n",
      "done\n"
     ]
    }
   ],
   "source": [
    "lb_ar.wait_interactive()"
   ]
  },
  {
   "cell_type": "code",
   "execution_count": 12,
   "metadata": {
    "collapsed": false
   },
   "outputs": [],
   "source": [
    "# d: direct\n",
    "d_ar = dview.map_async(high_variated_work, range(total_works))"
   ]
  },
  {
   "cell_type": "code",
   "execution_count": 13,
   "metadata": {
    "collapsed": false
   },
   "outputs": [
    {
     "name": "stdout",
     "output_type": "stream",
     "text": [
      "  12/12 tasks finished after   12 s\n",
      "done\n"
     ]
    }
   ],
   "source": [
    "d_ar.wait_interactive()"
   ]
  },
  {
   "cell_type": "code",
   "execution_count": 14,
   "metadata": {
    "collapsed": false
   },
   "outputs": [
    {
     "name": "stdout",
     "output_type": "stream",
     "text": [
      "Speedup for load-blanced and direct view (ideal: 12x): 11.23 and 3.23\n"
     ]
    }
   ],
   "source": [
    "speedup = lambda ar: ar.serial_time / ar.wall_time\n",
    "print(\n",
    "    'Speedup for load-blanced and direct view (ideal: {:d}x): {:.2f} and {:.2f}'\n",
    "    .format(num_engines, *map(speedup, [lb_ar, d_ar]))\n",
    ")"
   ]
  },
  {
   "cell_type": "markdown",
   "metadata": {},
   "source": [
    "### Collect and analyze meta"
   ]
  },
  {
   "cell_type": "code",
   "execution_count": 15,
   "metadata": {
    "collapsed": true
   },
   "outputs": [],
   "source": [
    "def parse_async_meta(async_result):\n",
    "    \"\"\"Parse async result as pandas.DataFrame\"\"\"\n",
    "    meta_df = pd.DataFrame(async_result.get(), columns=['engine_pid', 'started', 'completed'])\n",
    "    meta_df['engine_id'] = meta_df['engine_pid'].map(pid_id_map)\n",
    "    return meta_df"
   ]
  },
  {
   "cell_type": "code",
   "execution_count": 16,
   "metadata": {
    "collapsed": true
   },
   "outputs": [],
   "source": [
    "def make_rel_time(meta_df):\n",
    "    \"\"\"Convert exact timestamp relative to start time and sort.\"\"\"\n",
    "    def compute_rel_time(col):\n",
    "        \"\"\"Relative time elapse compared with start time in seconds\"\"\"\n",
    "        return [(val - start_time).total_seconds() for val in col]\n",
    "    \n",
    "    ## Make all time data relative to the start time in seconds\n",
    "    # create empty dataframe\n",
    "    df_rel_sec = meta_df[['engine_id']].copy()\n",
    "    rel_columns = ['rel_started', 'rel_completed']\n",
    "    for col in rel_columns:\n",
    "        df_rel_sec[col] = np.empty(len(df_rel_sec), np.float)\n",
    "        \n",
    "    # get the earliest start time\n",
    "    start_time = meta_df.started.min()\n",
    "    abs_time_data = meta_df[['started', 'completed']]\n",
    "    rel_time_data = abs_time_data.apply(compute_rel_time, axis=0).values\n",
    "    df_rel_sec.loc[:, rel_columns] = rel_time_data\n",
    "    \n",
    "    # sort by relative start time and given order, \n",
    "    # grouped by different engines\n",
    "    sorted_df = df_rel_sec.sort(['engine_id', 'rel_started', 'rel_completed'])\n",
    "    sorted_df['order'] = np.empty(len(sorted_df), np.int)\n",
    "    for grp_key, grp_df in sorted_df.groupby(['engine_id']):\n",
    "        sorted_df.loc[grp_df.index, 'order'] = np.arange(len(grp_df))\n",
    "    \n",
    "    return sorted_df"
   ]
  },
  {
   "cell_type": "code",
   "execution_count": 17,
   "metadata": {
    "collapsed": false
   },
   "outputs": [],
   "source": [
    "# Functional style\n",
    "lb_ar_df, d_ar_df = map(make_rel_time, map(parse_async_meta, [lb_ar, d_ar]))"
   ]
  },
  {
   "cell_type": "markdown",
   "metadata": {},
   "source": [
    "### Visualization"
   ]
  },
  {
   "cell_type": "code",
   "execution_count": 18,
   "metadata": {
    "collapsed": false
   },
   "outputs": [],
   "source": [
    "def get_color_pal(max_jobs_per_engines):\n",
    "    color_pal = sns.cubehelix_palette(\n",
    "        n_colors=max_jobs_per_engines,\n",
    "        start=2.3, rot=0.8, gamma=0.6, hue=0.8, \n",
    "        light=0.9, dark=0.3, \n",
    "        reverse=True\n",
    "    )\n",
    "    return color_pal\n",
    "\n",
    "\n",
    "def plot_meta_df(meta_df, figsize=None):\n",
    "    # some boundaries required for plotting\n",
    "    max_jobs_per_engines = meta_df['order'].max() + 1\n",
    "    num_engines = len(np.unique(meta_df['engine_id']))\n",
    "    color_pal = get_color_pal(max_jobs_per_engines)\n",
    "    \n",
    "    if figsize is not None:\n",
    "        fig = plt.figure(figsize=figsize)\n",
    "    else:\n",
    "        fig = plt.figure(figsize=(max_jobs_per_engines * 6 * 2 / 12, 6))\n",
    "    ax = plt.axes()\n",
    "    bar_height = 0.8\n",
    "    for ix, row in meta_df.iterrows():\n",
    "        plt.bar(\n",
    "            bottom=int(row.engine_id) , left=row.rel_started, \n",
    "            width=row.rel_completed - row.rel_started, height=bar_height,\n",
    "            color=color_pal[int(row['order'])], axes=ax\n",
    "        )\n",
    "    plt.xlabel('Time (second)')\n",
    "    plt.ylabel('Engine')\n",
    "    plt.yticks(\n",
    "        np.arange(num_engines) + bar_height / 2, \n",
    "        ['%2d' % ix for ix in np.arange(num_engines)]\n",
    "    )\n",
    "    return fig"
   ]
  },
  {
   "cell_type": "markdown",
   "metadata": {},
   "source": [
    "`get_color_pal(num_palettes)` is a function to produce a series of color specs which can be used to tell how many task each engine consumes.\n",
    "\n",
    "At any time point, if engines' tasks has different color imply they are of different order."
   ]
  },
  {
   "cell_type": "code",
   "execution_count": 19,
   "metadata": {
    "collapsed": false
   },
   "outputs": [
    {
     "data": {
      "image/png": "[encoded data removed]",
      "text/plain": [
       "<matplotlib.figure.Figure at 0x109edd3c8>"
      ]
     },
     "metadata": {},
     "output_type": "display_data"
    }
   ],
   "source": [
    "sns.palplot(get_color_pal(12))"
   ]
  },
  {
   "cell_type": "code",
   "execution_count": 20,
   "metadata": {
    "collapsed": false
   },
   "outputs": [
    {
     "data": {
      "image/png": "[encoded data removed]",
      "text/plain": [
       "<matplotlib.figure.Figure at 0x10ee094a8>"
      ]
     },
     "metadata": {},
     "output_type": "display_data"
    }
   ],
   "source": [
    "fig = plot_meta_df(lb_ar_df)\n",
    "plt.title('Load balanced IPython parallel job timetable')\n",
    "plt.show()"
   ]
  },
  {
   "cell_type": "code",
   "execution_count": 21,
   "metadata": {
    "collapsed": true
   },
   "outputs": [],
   "source": [
    "# fig.savefig(\"../../slides/pics/task_exe_history_load_balanced.svg\", dpi=\"150\", frameon=False, bbox_inches='tight')"
   ]
  },
  {
   "cell_type": "code",
   "execution_count": 22,
   "metadata": {
    "collapsed": false
   },
   "outputs": [
    {
     "data": {
      "image/png": "[encoded data removed]",
      "text/plain": [
       "<matplotlib.figure.Figure at 0x10f0e2e80>"
      ]
     },
     "metadata": {},
     "output_type": "display_data"
    }
   ],
   "source": [
    "fig = plot_meta_df(d_ar_df)\n",
    "plt.title('Direct view IPython parallel job timetable')\n",
    "plt.show()"
   ]
  },
  {
   "cell_type": "code",
   "execution_count": 23,
   "metadata": {
    "collapsed": true
   },
   "outputs": [],
   "source": [
    "# fig.savefig(\"../../slides/pics/task_exe_history_direct.svg\", dpi=\"150\", frameon=False, bbox_inches='tight')"
   ]
  },
  {
   "cell_type": "markdown",
   "metadata": {},
   "source": [
    "So it is apparent that we successfully *trolled* the direct view mapping mechanism. In real world this scenario is rare actually."
   ]
  },
  {
   "cell_type": "markdown",
   "metadata": {},
   "source": [
    "## Task definition - random work load\n",
    "\n",
    "Here we use decorator to specify function to be parallelized."
   ]
  },
  {
   "cell_type": "code",
   "execution_count": 24,
   "metadata": {
    "collapsed": true
   },
   "outputs": [],
   "source": [
    "@lbview.parallel(block=False)\n",
    "def lb_randomized_work(work_load):\n",
    "    start_time = datetime.now()\n",
    "    sleep(work_load * 100 / 1000)\n",
    "    end_time = datetime.now()\n",
    "    return pid, start_time, end_time\n",
    "\n",
    "@dview.parallel(block=False)\n",
    "def d_randomized_work(work_load):\n",
    "    start_time = datetime.now()\n",
    "    sleep(work_load * 100 / 1000)\n",
    "    end_time = datetime.now()\n",
    "    return pid, start_time, end_time"
   ]
  },
  {
   "cell_type": "markdown",
   "metadata": {},
   "source": [
    "Techinal detail here, we simulate the work load using [Gamma distribution](http://en.wikipedia.org/wiki/Gamma_distribution). Its probability distribution spans only on positive numbers and has long tail on larger number. This means this task tend to have some long running tasks.\n",
    "\n",
    "We use `RandomState` to make sure every time we execute the random tasks are the same."
   ]
  },
  {
   "cell_type": "code",
   "execution_count": 25,
   "metadata": {
    "collapsed": false
   },
   "outputs": [],
   "source": [
    "rs = np.random.RandomState(seed=9527)\n",
    "rand_work_load = rs.gamma(shape=7.5, scale=0.5, size=num_engines * 15)"
   ]
  },
  {
   "cell_type": "code",
   "execution_count": 26,
   "metadata": {
    "collapsed": false
   },
   "outputs": [
    {
     "data": {
      "image/png": "[encoded data removed]",
      "text/plain": [
       "<matplotlib.figure.Figure at 0x10f32df60>"
      ]
     },
     "metadata": {},
     "output_type": "display_data"
    }
   ],
   "source": [
    "f, axarr = plt.subplots(2, sharex=True)\n",
    "axarr[0].hist(rand_work_load, bins=16)\n",
    "axarr[1].hist(rs.gamma(shape=7.5, scale=0.5, size=1000), bins=16)\n",
    "plt.show()"
   ]
  },
  {
   "cell_type": "code",
   "execution_count": 27,
   "metadata": {
    "collapsed": false
   },
   "outputs": [
    {
     "name": "stdout",
     "output_type": "stream",
     "text": [
      " 180/180 tasks finished after    5 s\n",
      "done\n"
     ]
    }
   ],
   "source": [
    "lb_ar = lb_randomized_work.map(rand_work_load)\n",
    "lb_ar.wait_interactive()"
   ]
  },
  {
   "cell_type": "code",
   "execution_count": 28,
   "metadata": {
    "collapsed": false
   },
   "outputs": [
    {
     "name": "stdout",
     "output_type": "stream",
     "text": [
      "  12/12 tasks finished after    6 s\n",
      "done\n"
     ]
    }
   ],
   "source": [
    "d_ar = d_randomized_work.map(rand_work_load)\n",
    "d_ar.wait_interactive()"
   ]
  },
  {
   "cell_type": "code",
   "execution_count": 29,
   "metadata": {
    "collapsed": true
   },
   "outputs": [],
   "source": [
    "lb_ar_df, d_ar_df = map(make_rel_time, map(parse_async_meta, [lb_ar, d_ar]))"
   ]
  },
  {
   "cell_type": "code",
   "execution_count": 30,
   "metadata": {
    "collapsed": false
   },
   "outputs": [
    {
     "data": {
      "image/png": "[encoded data removed]",
      "text/plain": [
       "<matplotlib.figure.Figure at 0x10f0cb4e0>"
      ]
     },
     "metadata": {},
     "output_type": "display_data"
    }
   ],
   "source": [
    "fig = plot_meta_df(lb_ar_df)\n",
    "plt.title('Load balanced IPython parallel job timetable')\n",
    "plt.show()"
   ]
  },
  {
   "cell_type": "code",
   "execution_count": 31,
   "metadata": {
    "collapsed": true
   },
   "outputs": [],
   "source": [
    "# fig.savefig(\"../../slides/pics/task_random_load_balanced.svg\", dpi=\"150\", frameon=False, bbox_inches='tight')"
   ]
  },
  {
   "cell_type": "code",
   "execution_count": 32,
   "metadata": {
    "collapsed": false
   },
   "outputs": [
    {
     "data": {
      "image/png": "[encoded data removed]",
      "text/plain": [
       "<matplotlib.figure.Figure at 0x10eef2860>"
      ]
     },
     "metadata": {},
     "output_type": "display_data"
    }
   ],
   "source": [
    "fig = plot_meta_df(d_ar_df)\n",
    "plt.title('Direct view IPython parallel job timetable')\n",
    "plt.show()"
   ]
  },
  {
   "cell_type": "code",
   "execution_count": 33,
   "metadata": {
    "collapsed": true
   },
   "outputs": [],
   "source": [
    "# fig.savefig(\"../../slides/pics/task_random_direct.svg\", dpi=\"150\", frameon=False, bbox_inches='tight')"
   ]
  },
  {
   "cell_type": "markdown",
   "metadata": {
    "collapsed": true
   },
   "source": [
    "In random tasks, their difference gets smaller. Though in this case the load-balanced case works more efficiently."
   ]
  }
 ],
 "metadata": {
  "kernelspec": {
   "display_name": "Python 3",
   "language": "python",
   "name": "python3"
  },
  "language_info": {
   "codemirror_mode": {
    "name": "ipython",
    "version": 3
   },
   "file_extension": ".py",
   "mimetype": "text/x-python",
   "name": "python",
   "nbconvert_exporter": "python",
   "pygments_lexer": "ipython3",
   "version": "3.4.3"
  }
 },
 "nbformat": 4,
 "nbformat_minor": 0
}
