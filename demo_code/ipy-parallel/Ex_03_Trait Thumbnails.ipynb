{
 "metadata": {
  "name": "",
  "signature": "sha256:4d4833d681f98bdb4711971b0144071d0f8b3c2b52e15b693bfe651e1c346aba"
 },
 "nbformat": 3,
 "nbformat_minor": 0,
 "worksheets": [
  {
   "cells": [
    {
     "cell_type": "markdown",
     "metadata": {},
     "source": [
      "# Local Version"
     ]
    },
    {
     "cell_type": "code",
     "collapsed": false,
     "input": [
      "import io\n",
      "from pathlib import Path\n",
      "\n",
      "import numpy as np"
     ],
     "language": "python",
     "metadata": {},
     "outputs": [],
     "prompt_number": 26
    },
    {
     "cell_type": "code",
     "collapsed": false,
     "input": [
      "import matplotlib as mpl\n",
      "from matplotlib import pyplot as plt\n",
      "from matplotlib import gridspec\n",
      "from matplotlib import font_manager\n",
      "\n",
      "import seaborn as sns"
     ],
     "language": "python",
     "metadata": {},
     "outputs": [],
     "prompt_number": 20
    },
    {
     "cell_type": "code",
     "collapsed": false,
     "input": [
      "%matplotlib inline"
     ],
     "language": "python",
     "metadata": {},
     "outputs": [],
     "prompt_number": 21
    },
    {
     "cell_type": "code",
     "collapsed": false,
     "input": [
      "chs_font = font_manager.FontProperties(family=\"SimHei\", size=10, weight='bold')"
     ],
     "language": "python",
     "metadata": {},
     "outputs": [],
     "prompt_number": 32
    },
    {
     "cell_type": "code",
     "collapsed": false,
     "input": [
      "TOP_K = 64\n",
      "TOP_M_WEIGHT = 60"
     ],
     "language": "python",
     "metadata": {},
     "outputs": [],
     "prompt_number": 19
    },
    {
     "cell_type": "code",
     "collapsed": false,
     "input": [
      "MULTI_TRAIT_ROOT = Path(\n",
      "    r'\\\\msralab\\ProjectData\\eHealth\\v-lianwa\\CRC_pathology_result\\exp10_refinefig'\n",
      "    r'\\patch_trait\\multilabel'\n",
      ")\n",
      "MULTI_TRAIT_ROOT.exists()"
     ],
     "language": "python",
     "metadata": {},
     "outputs": [
      {
       "metadata": {},
       "output_type": "pyout",
       "prompt_number": 5,
       "text": [
        "True"
       ]
      }
     ],
     "prompt_number": 5
    },
    {
     "cell_type": "code",
     "collapsed": false,
     "input": [
      "MULTI_OUT_ROOT = Path(\n",
      "    r'\\\\msralab\\ProjectData\\eHealth\\v-lianwa\\CRC_pathology_result\\exp10_refinefig'\n",
      "    r'\\patch_trait_thumbnail\\multilabel'\n",
      ")\n",
      "if not MULTI_OUT_ROOT.exists():\n",
      "    MULTI_OUT_ROOT.mkdir(parents=True)"
     ],
     "language": "python",
     "metadata": {},
     "outputs": [],
     "prompt_number": 24
    },
    {
     "cell_type": "code",
     "collapsed": false,
     "input": [
      "subdirs = [d for d in MULTI_TRAIT_ROOT.glob('*/*') if d.is_dir()]"
     ],
     "language": "python",
     "metadata": {},
     "outputs": [],
     "prompt_number": 11
    },
    {
     "cell_type": "code",
     "collapsed": false,
     "input": [
      "def subdir_dispatch(subdirs):\n",
      "    for subdir in subdirs:\n",
      "        feat_name = subdir.name\n",
      "        label_name = subdir.parent.name\n",
      "        yield label_name, feat_name, str(subdir)"
     ],
     "language": "python",
     "metadata": {},
     "outputs": [],
     "prompt_number": 15
    },
    {
     "cell_type": "code",
     "collapsed": false,
     "input": [
      "all_feat_info = list(subdir_dispatch(subdirs))"
     ],
     "language": "python",
     "metadata": {},
     "outputs": [],
     "prompt_number": 17
    },
    {
     "cell_type": "code",
     "collapsed": false,
     "input": [
      "def thumbnail_one_feat(dispatch_info, out_root):\n",
      "    label_name, feat_name, feat_dir = dispatch_info\n",
      "    ordered_patches = sorted(\n",
      "        (p for p in Path(feat_dir).iterdir() if p.suffix == '.jpg'),\n",
      "        key=lambda p: int(p.stem.split('th')[0])  # based on patch ranking\n",
      "    )\n",
      "    # make subfigure grid\n",
      "    fig, axarr = plt.subplots(nrows=8, ncols=8, figsize=(10, 10))\n",
      "    for ax, patch_pth in zip(axarr.ravel(), ordered_patches):\n",
      "        im_arr = plt.imread(str(patch_pth), format='jpeg')\n",
      "        ax.imshow(im_arr)\n",
      "        ax.set_axis_off()\n",
      "        ax.set_adjustable('box-forced')\n",
      "    # fig.suptitle(\n",
      "    #     '{:s} | {:s}'.format(label_name, feat_name),\n",
      "    #     fontproperties=chs_font\n",
      "    # )\n",
      "    plt.subplots_adjust(wspace=0.05, hspace=0.05)\n",
      "    \n",
      "    # save fig\n",
      "    out_dir = out_root / label_name\n",
      "    if not out_dir.exists():\n",
      "        out_dir.mkdir()\n",
      "    fig_p = out_dir / \"{:s}.png\".format(feat_name)\n",
      "    fig.savefig(str(fig_p), transparent=True, bbox_inches='tight', pad_inches=0.1, dpi=220)\n",
      "    plt.close(fig)"
     ],
     "language": "python",
     "metadata": {},
     "outputs": [],
     "prompt_number": 55
    },
    {
     "cell_type": "code",
     "collapsed": false,
     "input": [
      "thumbnail_one_feat(all_feat_info[0], MULTI_OUT_ROOT)"
     ],
     "language": "python",
     "metadata": {},
     "outputs": [],
     "prompt_number": 56
    },
    {
     "cell_type": "markdown",
     "metadata": {},
     "source": [
      "# Parallel Version"
     ]
    },
    {
     "cell_type": "code",
     "collapsed": false,
     "input": [
      "from IPython.parallel import Client\n",
      "cli = Client(profile='parallel')\n",
      "print(\"Total workers: {}\".format(len(cli.ids)))"
     ],
     "language": "python",
     "metadata": {},
     "outputs": [
      {
       "output_type": "stream",
       "stream": "stdout",
       "text": [
        "Total workers: 30\n"
       ]
      }
     ],
     "prompt_number": 48
    },
    {
     "cell_type": "code",
     "collapsed": false,
     "input": [
      "dview = cli[:]\n",
      "lbview = cli.load_balanced_view()"
     ],
     "language": "python",
     "metadata": {},
     "outputs": [],
     "prompt_number": 49
    },
    {
     "cell_type": "markdown",
     "metadata": {},
     "source": [
      "### Load module"
     ]
    },
    {
     "cell_type": "code",
     "collapsed": false,
     "input": [
      "%%px\n",
      "import io\n",
      "from pathlib import Path\n",
      "import numpy as np\n",
      "\n",
      "import matplotlib as mpl\n",
      "mpl.use(\"Agg\")\n",
      "from matplotlib import pyplot as plt\n",
      "from matplotlib import font_manager\n",
      "import seaborn as sns"
     ],
     "language": "python",
     "metadata": {},
     "outputs": [],
     "prompt_number": 50
    },
    {
     "cell_type": "code",
     "collapsed": false,
     "input": [
      "ar = dview.push(dict(\n",
      "    TOP_K=TOP_K, TOP_M_WEIGHT=TOP_M_WEIGHT,\n",
      "    MULTI_TRAIT_ROOT=MULTI_TRAIT_ROOT, MULTI_OUT_ROOT=MULTI_OUT_ROOT,\n",
      "    chs_font=chs_font, thumbnail_one_feat=thumbnail_one_feat,\n",
      "), block=True)"
     ],
     "language": "python",
     "metadata": {},
     "outputs": [],
     "prompt_number": 57
    },
    {
     "cell_type": "code",
     "collapsed": false,
     "input": [
      "@lbview.parallel(block=False)\n",
      "def parallel_thumbnail_multi(dp_info):\n",
      "    thumbnail_one_feat(dp_info, MULTI_OUT_ROOT)"
     ],
     "language": "python",
     "metadata": {},
     "outputs": [],
     "prompt_number": 58
    },
    {
     "cell_type": "code",
     "collapsed": false,
     "input": [
      "## testing\n",
      "# parallel_thumbnail_multi.func(all_feat_info[0])"
     ],
     "language": "python",
     "metadata": {},
     "outputs": [],
     "prompt_number": 59
    },
    {
     "cell_type": "code",
     "collapsed": false,
     "input": [
      "ar = parallel_thumbnail_multi.map(all_feat_info)\n",
      "ar.wait_interactive()"
     ],
     "language": "python",
     "metadata": {},
     "outputs": [
      {
       "output_type": "stream",
       "stream": "stdout",
       "text": [
        " 360/360 tasks finished after  178 s"
       ]
      },
      {
       "output_type": "stream",
       "stream": "stdout",
       "text": [
        "\n",
        "done\n"
       ]
      }
     ],
     "prompt_number": 60
    },
    {
     "cell_type": "markdown",
     "metadata": {},
     "source": [
      "## Binary"
     ]
    },
    {
     "cell_type": "code",
     "collapsed": false,
     "input": [
      "BINARY_TRAIT_ROOT = Path(\n",
      "    r'\\\\msralab\\ProjectData\\eHealth\\v-lianwa\\CRC_pathology_result\\exp10_refinefig'\n",
      "    r'\\patch_trait\\binary'\n",
      ")\n",
      "BINARY_TRAIT_ROOT.exists()"
     ],
     "language": "python",
     "metadata": {},
     "outputs": [
      {
       "metadata": {},
       "output_type": "pyout",
       "prompt_number": 61,
       "text": [
        "True"
       ]
      }
     ],
     "prompt_number": 61
    },
    {
     "cell_type": "code",
     "collapsed": false,
     "input": [
      "BINARY_OUT_ROOT = Path(\n",
      "    r'\\\\msralab\\ProjectData\\eHealth\\v-lianwa\\CRC_pathology_result\\exp10_refinefig'\n",
      "    r'\\patch_trait_thumbnail\\binary'\n",
      ")\n",
      "if not BINARY_OUT_ROOT.exists():\n",
      "    BINARY_OUT_ROOT.mkdir(parents=True)"
     ],
     "language": "python",
     "metadata": {},
     "outputs": [],
     "prompt_number": 62
    },
    {
     "cell_type": "code",
     "collapsed": false,
     "input": [
      "binary_subdirs = [d for d in BINARY_TRAIT_ROOT.glob('*/*') if d.is_dir()]\n",
      "all_binary_feat_info = list(subdir_dispatch(binary_subdirs))\n",
      "len(all_binary_feat_info)"
     ],
     "language": "python",
     "metadata": {},
     "outputs": [
      {
       "metadata": {},
       "output_type": "pyout",
       "prompt_number": 63,
       "text": [
        "120"
       ]
      }
     ],
     "prompt_number": 63
    },
    {
     "cell_type": "code",
     "collapsed": false,
     "input": [
      "dview['BINARY_OUT_ROOT'] = BINARY_OUT_ROOT"
     ],
     "language": "python",
     "metadata": {},
     "outputs": [],
     "prompt_number": 64
    },
    {
     "cell_type": "code",
     "collapsed": false,
     "input": [
      "@lbview.parallel(block=False)\n",
      "def parallel_thumbnail_binary(dp_info):\n",
      "    thumbnail_one_feat(dp_info, BINARY_OUT_ROOT)"
     ],
     "language": "python",
     "metadata": {},
     "outputs": [],
     "prompt_number": 65
    },
    {
     "cell_type": "code",
     "collapsed": false,
     "input": [
      "## testing\n",
      "# parallel_thumbnail_binary.func(all_binary_feat_info[0])"
     ],
     "language": "python",
     "metadata": {},
     "outputs": [],
     "prompt_number": 66
    },
    {
     "cell_type": "code",
     "collapsed": false,
     "input": [
      "ar = parallel_thumbnail_binary.map(all_binary_feat_info)\n",
      "ar.wait_interactive()"
     ],
     "language": "python",
     "metadata": {},
     "outputs": [
      {
       "output_type": "stream",
       "stream": "stdout",
       "text": [
        " 119/120 tasks finished after   69 s"
       ]
      },
      {
       "output_type": "stream",
       "stream": "stdout",
       "text": [
        "\n",
        "done\n"
       ]
      }
     ],
     "prompt_number": 67
    },
    {
     "cell_type": "code",
     "collapsed": false,
     "input": [],
     "language": "python",
     "metadata": {},
     "outputs": []
    }
   ],
   "metadata": {}
  }
 ]
}
